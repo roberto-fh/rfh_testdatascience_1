{
 "cells": [
  {
   "cell_type": "markdown",
   "id": "a208da40-5997-4722-b131-706196c0a326",
   "metadata": {},
   "source": [
    "# EDA - Problema de clasificación - Adult\n",
    "### Objetivo\n",
    "Predecir si los ingresos anuales de una persona son superior a $50K\n",
    "### Data\n",
    "https://archive.ics.uci.edu/dataset/2/adult"
   ]
  },
  {
   "cell_type": "markdown",
   "id": "bf25f0b9-0d82-4c6f-af8f-70f02d4802d7",
   "metadata": {},
   "source": [
    "## 0. Carga de librerias"
   ]
  },
  {
   "cell_type": "code",
   "execution_count": 18,
   "id": "6c67d398-9756-455f-8f23-310edcd52db3",
   "metadata": {},
   "outputs": [],
   "source": [
    "import sys\n",
    "from pathlib import Path\n",
    "import pandas as pd\n",
    "from sklearn.impute import KNNImputer\n",
    "import numpy as np"
   ]
  },
  {
   "cell_type": "markdown",
   "id": "25f1243f-53e1-4cc2-8337-964bf90f2cce",
   "metadata": {},
   "source": [
    "## 1. Carga de Datos"
   ]
  },
  {
   "cell_type": "code",
   "execution_count": 2,
   "id": "7db67b48-1f4a-4f91-aecf-586ce56cea58",
   "metadata": {},
   "outputs": [
    {
     "name": "stderr",
     "output_type": "stream",
     "text": [
      "\u001b[32m2025-07-29 22:50:58.987\u001b[0m | \u001b[1mINFO    \u001b[0m | \u001b[36mrfh_testdatascience_1.config\u001b[0m:\u001b[36m<module>\u001b[0m:\u001b[36m11\u001b[0m - \u001b[1mPROJ_ROOT path is: C:\\Users\\Usuario\\Desktop\\Capgemini\\RFH-TestDataScience-1\\rfh_testdatascience_1\u001b[0m\n"
     ]
    }
   ],
   "source": [
    "# Añade el directorio raíz del proyecto al sys.path\n",
    "PROJECT_ROOT = Path.cwd().parent\n",
    "sys.path.append(str(PROJECT_ROOT))\n",
    "\n",
    "from rfh_testdatascience_1.config import RAW_DATA_DIR\n",
    "\n",
    "# Paths a los archivos\n",
    "train_path = RAW_DATA_DIR / \"adult.data\"\n",
    "test_path = RAW_DATA_DIR / \"adult.test\"\n",
    "\n",
    "# Leer los datos de entrenamiento\n",
    "df_train = pd.read_csv(train_path)\n",
    "\n",
    "# Leer los datos de prueba\n",
    "df_test = pd.read_csv(test_path)"
   ]
  },
  {
   "cell_type": "markdown",
   "id": "04581b5d-f7eb-46ef-b085-54c807026073",
   "metadata": {},
   "source": [
    "## 2. Revisión inicial"
   ]
  },
  {
   "cell_type": "code",
   "execution_count": 3,
   "id": "420e3b67-9019-446c-9576-11e0173c0ec2",
   "metadata": {},
   "outputs": [
    {
     "name": "stdout",
     "output_type": "stream",
     "text": [
      "   39          State-gov   77516   Bachelors   13        Never-married  \\\n",
      "0  50   Self-emp-not-inc   83311   Bachelors   13   Married-civ-spouse   \n",
      "1  38            Private  215646     HS-grad    9             Divorced   \n",
      "2  53            Private  234721        11th    7   Married-civ-spouse   \n",
      "3  28            Private  338409   Bachelors   13   Married-civ-spouse   \n",
      "4  37            Private  284582     Masters   14   Married-civ-spouse   \n",
      "\n",
      "         Adm-clerical   Not-in-family   White     Male   2174   0   40  \\\n",
      "0     Exec-managerial         Husband   White     Male      0   0   13   \n",
      "1   Handlers-cleaners   Not-in-family   White     Male      0   0   40   \n",
      "2   Handlers-cleaners         Husband   Black     Male      0   0   40   \n",
      "3      Prof-specialty            Wife   Black   Female      0   0   40   \n",
      "4     Exec-managerial            Wife   White   Female      0   0   40   \n",
      "\n",
      "    United-States   <=50K  \n",
      "0   United-States   <=50K  \n",
      "1   United-States   <=50K  \n",
      "2   United-States   <=50K  \n",
      "3            Cuba   <=50K  \n",
      "4   United-States   <=50K  \n",
      "------------------------------------------------\n",
      "                                                                                                                        |1x3 Cross validator\n",
      "25 Private   226802 11th         7  Never-married      Machine-op-inspct Own-child Black Male   0    0 40 United-States               <=50K.\n",
      "38 Private   89814  HS-grad      9  Married-civ-spouse Farming-fishing   Husband   White Male   0    0 50 United-States               <=50K.\n",
      "28 Local-gov 336951 Assoc-acdm   12 Married-civ-spouse Protective-serv   Husband   White Male   0    0 40 United-States                >50K.\n",
      "44 Private   160323 Some-college 10 Married-civ-spouse Machine-op-inspct Husband   Black Male   7688 0 40 United-States                >50K.\n",
      "18 ?         103497 Some-college 10 Never-married      ?                 Own-child White Female 0    0 30 United-States               <=50K.\n"
     ]
    }
   ],
   "source": [
    "# Mostrar primeras filas\n",
    "print(df_train.head())\n",
    "print('------------------------------------------------')\n",
    "print(df_test.head())"
   ]
  },
  {
   "cell_type": "markdown",
   "id": "b6f31172-d620-48fe-a326-137c38a6c3f8",
   "metadata": {},
   "source": [
    "### Insights\n",
    "- Falta incluir la cabeceras -> están en el archivo \"adult.name\"\n",
    "- Null con ?\n",
    "- Sobre la primera linea en test"
   ]
  },
  {
   "cell_type": "code",
   "execution_count": 4,
   "id": "42c0c287-8289-4783-9561-6be1378ce42d",
   "metadata": {},
   "outputs": [],
   "source": [
    "# Nombres de columnas (según adult.names)\n",
    "column_names = [\n",
    "    \"age\", \"workclass\", \"fnlwgt\", \"education\", \"education-num\",\n",
    "    \"marital-status\", \"occupation\", \"relationship\", \"race\", \"sex\",\n",
    "    \"capital-gain\", \"capital-loss\", \"hours-per-week\", \"native-country\", \"income\"\n",
    "]\n",
    "\n",
    "# Leer los datos de entrenamiento\n",
    "df_train = pd.read_csv(train_path, header=None, names=column_names, na_values=\" ?\")\n",
    "\n",
    "# Leer los datos de prueba\n",
    "df_test = pd.read_csv(test_path, header=0, names=column_names, na_values=\" ?\")"
   ]
  },
  {
   "cell_type": "code",
   "execution_count": 5,
   "id": "afde48a5-b366-4d03-9701-f12564d875e9",
   "metadata": {},
   "outputs": [
    {
     "name": "stdout",
     "output_type": "stream",
     "text": [
      "   age          workclass  fnlwgt   education  education-num  \\\n",
      "0   39          State-gov   77516   Bachelors             13   \n",
      "1   50   Self-emp-not-inc   83311   Bachelors             13   \n",
      "2   38            Private  215646     HS-grad              9   \n",
      "3   53            Private  234721        11th              7   \n",
      "4   28            Private  338409   Bachelors             13   \n",
      "\n",
      "        marital-status          occupation    relationship    race      sex  \\\n",
      "0        Never-married        Adm-clerical   Not-in-family   White     Male   \n",
      "1   Married-civ-spouse     Exec-managerial         Husband   White     Male   \n",
      "2             Divorced   Handlers-cleaners   Not-in-family   White     Male   \n",
      "3   Married-civ-spouse   Handlers-cleaners         Husband   Black     Male   \n",
      "4   Married-civ-spouse      Prof-specialty            Wife   Black   Female   \n",
      "\n",
      "   capital-gain  capital-loss  hours-per-week  native-country  income  \n",
      "0          2174             0              40   United-States   <=50K  \n",
      "1             0             0              13   United-States   <=50K  \n",
      "2             0             0              40   United-States   <=50K  \n",
      "3             0             0              40   United-States   <=50K  \n",
      "4             0             0              40            Cuba   <=50K  \n",
      "------------------------------------------------\n",
      "   age   workclass  fnlwgt      education  education-num       marital-status  \\\n",
      "0   25     Private  226802           11th              7        Never-married   \n",
      "1   38     Private   89814        HS-grad              9   Married-civ-spouse   \n",
      "2   28   Local-gov  336951     Assoc-acdm             12   Married-civ-spouse   \n",
      "3   44     Private  160323   Some-college             10   Married-civ-spouse   \n",
      "4   18         NaN  103497   Some-college             10        Never-married   \n",
      "\n",
      "           occupation relationship    race      sex  capital-gain  \\\n",
      "0   Machine-op-inspct    Own-child   Black     Male             0   \n",
      "1     Farming-fishing      Husband   White     Male             0   \n",
      "2     Protective-serv      Husband   White     Male             0   \n",
      "3   Machine-op-inspct      Husband   Black     Male          7688   \n",
      "4                 NaN    Own-child   White   Female             0   \n",
      "\n",
      "   capital-loss  hours-per-week  native-country   income  \n",
      "0             0              40   United-States   <=50K.  \n",
      "1             0              50   United-States   <=50K.  \n",
      "2             0              40   United-States    >50K.  \n",
      "3             0              40   United-States    >50K.  \n",
      "4             0              30   United-States   <=50K.  \n"
     ]
    }
   ],
   "source": [
    "# Mostrar primeras filas\n",
    "print(df_train.head())\n",
    "print('------------------------------------------------')\n",
    "print(df_test.head())"
   ]
  },
  {
   "cell_type": "code",
   "execution_count": 6,
   "id": "5cba6edf-ae19-4845-8aa4-f863d5c3d58b",
   "metadata": {},
   "outputs": [
    {
     "name": "stdout",
     "output_type": "stream",
     "text": [
      "(32561, 15)\n",
      "------------------------------------------------\n",
      "(16281, 15)\n"
     ]
    }
   ],
   "source": [
    "# Forma\n",
    "print(df_train.shape)\n",
    "print('------------------------------------------------')\n",
    "print(df_test.shape)"
   ]
  },
  {
   "cell_type": "code",
   "execution_count": 7,
   "id": "560538c6-3b51-4db5-b384-af2df1f5f239",
   "metadata": {},
   "outputs": [
    {
     "name": "stdout",
     "output_type": "stream",
     "text": [
      "age                int64\n",
      "workclass         object\n",
      "fnlwgt             int64\n",
      "education         object\n",
      "education-num      int64\n",
      "marital-status    object\n",
      "occupation        object\n",
      "relationship      object\n",
      "race              object\n",
      "sex               object\n",
      "capital-gain       int64\n",
      "capital-loss       int64\n",
      "hours-per-week     int64\n",
      "native-country    object\n",
      "income            object\n",
      "dtype: object\n",
      "------------------------------------------------\n",
      "age                int64\n",
      "workclass         object\n",
      "fnlwgt             int64\n",
      "education         object\n",
      "education-num      int64\n",
      "marital-status    object\n",
      "occupation        object\n",
      "relationship      object\n",
      "race              object\n",
      "sex               object\n",
      "capital-gain       int64\n",
      "capital-loss       int64\n",
      "hours-per-week     int64\n",
      "native-country    object\n",
      "income            object\n",
      "dtype: object\n"
     ]
    }
   ],
   "source": [
    "# Tipos de datos\n",
    "print(df_train.dtypes)\n",
    "print('------------------------------------------------')\n",
    "print(df_test.dtypes)"
   ]
  },
  {
   "cell_type": "code",
   "execution_count": 8,
   "id": "072098b5-6bff-47e8-95ce-8193f4325a11",
   "metadata": {},
   "outputs": [
    {
     "name": "stdout",
     "output_type": "stream",
     "text": [
      "                age        fnlwgt  education-num  capital-gain  capital-loss  \\\n",
      "count  32561.000000  3.256100e+04   32561.000000  32561.000000  32561.000000   \n",
      "mean      38.581647  1.897784e+05      10.080679   1077.648844     87.303830   \n",
      "std       13.640433  1.055500e+05       2.572720   7385.292085    402.960219   \n",
      "min       17.000000  1.228500e+04       1.000000      0.000000      0.000000   \n",
      "25%       28.000000  1.178270e+05       9.000000      0.000000      0.000000   \n",
      "50%       37.000000  1.783560e+05      10.000000      0.000000      0.000000   \n",
      "75%       48.000000  2.370510e+05      12.000000      0.000000      0.000000   \n",
      "max       90.000000  1.484705e+06      16.000000  99999.000000   4356.000000   \n",
      "\n",
      "       hours-per-week  \n",
      "count    32561.000000  \n",
      "mean        40.437456  \n",
      "std         12.347429  \n",
      "min          1.000000  \n",
      "25%         40.000000  \n",
      "50%         40.000000  \n",
      "75%         45.000000  \n",
      "max         99.000000  \n",
      "------------------------------------------------\n",
      "                age        fnlwgt  education-num  capital-gain  capital-loss  \\\n",
      "count  16281.000000  1.628100e+04   16281.000000  16281.000000  16281.000000   \n",
      "mean      38.767459  1.894357e+05      10.072907   1081.905104     87.899269   \n",
      "std       13.849187  1.057149e+05       2.567545   7583.935968    403.105286   \n",
      "min       17.000000  1.349200e+04       1.000000      0.000000      0.000000   \n",
      "25%       28.000000  1.167360e+05       9.000000      0.000000      0.000000   \n",
      "50%       37.000000  1.778310e+05      10.000000      0.000000      0.000000   \n",
      "75%       48.000000  2.383840e+05      12.000000      0.000000      0.000000   \n",
      "max       90.000000  1.490400e+06      16.000000  99999.000000   3770.000000   \n",
      "\n",
      "       hours-per-week  \n",
      "count    16281.000000  \n",
      "mean        40.392236  \n",
      "std         12.479332  \n",
      "min          1.000000  \n",
      "25%         40.000000  \n",
      "50%         40.000000  \n",
      "75%         45.000000  \n",
      "max         99.000000  \n"
     ]
    }
   ],
   "source": [
    "# Estadistica básica\n",
    "print(df_train.describe())\n",
    "print('------------------------------------------------')\n",
    "print(df_test.describe())"
   ]
  },
  {
   "cell_type": "markdown",
   "id": "71a5c34c-0da6-49ee-a78a-856bbf0f68a3",
   "metadata": {},
   "source": [
    "### Insights\n",
    "- Un poco raro que train y test tengan exactamente los mismo estadisticos en las columnas númericas. Imagino que se debe a que es un data set preparado. Aunque por la descripción parece que es un extraición real.\n",
    "- Hay valores que parecen nulos como el max de hours per week\n",
    "- La distribución de capital-gain y capital-loss sugiere que una variable erronea"
   ]
  },
  {
   "cell_type": "markdown",
   "id": "9fd9fa9d-9d4e-4cee-9b8f-b17fa4fb47a8",
   "metadata": {},
   "source": [
    "# 2. Análisis variable objetivo"
   ]
  },
  {
   "cell_type": "code",
   "execution_count": 9,
   "id": "84e7df20-daa1-4791-9137-659463826cd1",
   "metadata": {},
   "outputs": [
    {
     "name": "stdout",
     "output_type": "stream",
     "text": [
      "income\n",
      "<=50K    24720\n",
      ">50K      7841\n",
      "Name: count, dtype: int64\n",
      "------------------------------------------------\n",
      "income\n",
      "<=50K.    12435\n",
      ">50K.      3846\n",
      "Name: count, dtype: int64\n"
     ]
    }
   ],
   "source": [
    "# Balanceo \n",
    "print(df_train['income'].value_counts())\n",
    "print('------------------------------------------------')\n",
    "print(df_test['income'].value_counts())"
   ]
  },
  {
   "cell_type": "code",
   "execution_count": 10,
   "id": "b915474d-cd5e-4445-8bd2-571d95bbdf55",
   "metadata": {},
   "outputs": [
    {
     "name": "stdout",
     "output_type": "stream",
     "text": [
      "Train (%):\n",
      "income\n",
      "<=50K    75.919044\n",
      ">50K     24.080956\n",
      "Name: proportion, dtype: float64\n",
      "------------------------------------------------\n",
      "Test (%):\n",
      "income\n",
      "<=50K.    76.377372\n",
      ">50K.     23.622628\n",
      "Name: proportion, dtype: float64\n"
     ]
    }
   ],
   "source": [
    "# Balanceo porcentual\n",
    "print(\"Train (%):\")\n",
    "print(df_train['income'].value_counts(normalize=True) * 100)\n",
    "print('------------------------------------------------')\n",
    "print(\"Test (%):\")\n",
    "print(df_test['income'].value_counts(normalize=True) * 100)"
   ]
  },
  {
   "cell_type": "markdown",
   "id": "99d3890c-2504-421f-86c5-cacc9c9de7a4",
   "metadata": {},
   "source": [
    "### Insights\n",
    "- El train y test tienen mas o menos la misma distribución en la variable objetivo\n",
    "- Esta ligeramente desbalanceado, habrá que pobrar si el modelo mejora con algun metodo que ajuste este desbalanceo"
   ]
  },
  {
   "cell_type": "markdown",
   "id": "fedd942f-2c72-439c-877f-41b5de224fa2",
   "metadata": {},
   "source": [
    "## 3. Análisis de datos faltantes"
   ]
  },
  {
   "cell_type": "code",
   "execution_count": 11,
   "id": "9b2102db-13a2-42b9-8a81-2191a06751fe",
   "metadata": {},
   "outputs": [
    {
     "name": "stdout",
     "output_type": "stream",
     "text": [
      "age                  0\n",
      "workclass         1836\n",
      "fnlwgt               0\n",
      "education            0\n",
      "education-num        0\n",
      "marital-status       0\n",
      "occupation        1843\n",
      "relationship         0\n",
      "race                 0\n",
      "sex                  0\n",
      "capital-gain         0\n",
      "capital-loss         0\n",
      "hours-per-week       0\n",
      "native-country     583\n",
      "income               0\n",
      "dtype: int64\n",
      "------------------------------------------------\n",
      "age                 0\n",
      "workclass         963\n",
      "fnlwgt              0\n",
      "education           0\n",
      "education-num       0\n",
      "marital-status      0\n",
      "occupation        966\n",
      "relationship        0\n",
      "race                0\n",
      "sex                 0\n",
      "capital-gain        0\n",
      "capital-loss        0\n",
      "hours-per-week      0\n",
      "native-country    274\n",
      "income              0\n",
      "dtype: int64\n"
     ]
    }
   ],
   "source": [
    "print(df_train.isnull().sum())\n",
    "print('------------------------------------------------')\n",
    "print(df_test.isnull().sum())"
   ]
  },
  {
   "cell_type": "code",
   "execution_count": 12,
   "id": "9165a93f-139d-4fda-9222-7e2a0ba57f91",
   "metadata": {},
   "outputs": [
    {
     "name": "stdout",
     "output_type": "stream",
     "text": [
      "                Nulos  % Nulos\n",
      "occupation       1843     5.66\n",
      "workclass        1836     5.64\n",
      "native-country    583     1.79\n",
      "----------------------------------------\n",
      "                Nulos  % Nulos\n",
      "occupation        966     5.93\n",
      "workclass         963     5.91\n",
      "native-country    274     1.68\n"
     ]
    }
   ],
   "source": [
    "cols = ['occupation', 'workclass', 'native-country']\n",
    "\n",
    "# Conteo de nulos\n",
    "missing_count = df_train[cols].isnull().sum()\n",
    "\n",
    "# Porcentaje de nulos\n",
    "missing_percent = df_train[cols].isnull().mean() * 100\n",
    "\n",
    "# Unir en un solo DataFrame para visualizar\n",
    "missing_df = pd.DataFrame({\n",
    "    'Nulos': missing_count,\n",
    "    '% Nulos': missing_percent.round(2)\n",
    "})\n",
    "\n",
    "print(missing_df)\n",
    "\n",
    "print('----------------------------------------')\n",
    "\n",
    "# Conteo de nulos\n",
    "missing_count = df_test[cols].isnull().sum()\n",
    "\n",
    "# Porcentaje de nulos\n",
    "missing_percent = df_test[cols].isnull().mean() * 100\n",
    "\n",
    "# Unir en un solo DataFrame para visualizar\n",
    "missing_df = pd.DataFrame({\n",
    "    'Nulos': missing_count,\n",
    "    '% Nulos': missing_percent.round(2)\n",
    "})\n",
    "\n",
    "print(missing_df)"
   ]
  },
  {
   "cell_type": "markdown",
   "id": "d8a16598-da03-4a2f-8f6f-322538d4b23f",
   "metadata": {},
   "source": [
    "### Insights\n",
    "- Tenemos valores alrededor del 5% en variables categorias, vamos a analizarlos e intentar imputarlos de alguna forma"
   ]
  },
  {
   "cell_type": "markdown",
   "id": "d4c8c34f-7031-4a80-afcc-55782ad4df7c",
   "metadata": {},
   "source": [
    "#### workclass"
   ]
  },
  {
   "cell_type": "code",
   "execution_count": 15,
   "id": "42c1ae79-e244-47bb-a95c-cc66d2037579",
   "metadata": {},
   "outputs": [
    {
     "name": "stdout",
     "output_type": "stream",
     "text": [
      "workclass\n",
      "Private             22696\n",
      "Self-emp-not-inc     2541\n",
      "Local-gov            2093\n",
      "State-gov            1298\n",
      "Self-emp-inc         1116\n",
      "Federal-gov           960\n",
      "Without-pay            14\n",
      "Never-worked            7\n",
      "Name: count, dtype: int64\n",
      "------------------------------------------------\n",
      "workclass\n",
      "Private             11210\n",
      "Self-emp-not-inc     1321\n",
      "Local-gov            1043\n",
      "State-gov             683\n",
      "Self-emp-inc          579\n",
      "Federal-gov           472\n",
      "Without-pay             7\n",
      "Never-worked            3\n",
      "Name: count, dtype: int64\n"
     ]
    }
   ],
   "source": [
    "# Conteo por cada clase\n",
    "print(df_train['workclass'].value_counts())\n",
    "print('------------------------------------------------')\n",
    "print(df_test['workclass'].value_counts())"
   ]
  },
  {
   "cell_type": "markdown",
   "id": "a6a098a5-5eea-4654-ad48-ba15a176804f",
   "metadata": {},
   "source": [
    "#### occupation"
   ]
  },
  {
   "cell_type": "code",
   "execution_count": 16,
   "id": "c98dcb54-3a34-4b7b-a52b-52a15a83253e",
   "metadata": {},
   "outputs": [
    {
     "name": "stdout",
     "output_type": "stream",
     "text": [
      "occupation\n",
      "Prof-specialty       4140\n",
      "Craft-repair         4099\n",
      "Exec-managerial      4066\n",
      "Adm-clerical         3770\n",
      "Sales                3650\n",
      "Other-service        3295\n",
      "Machine-op-inspct    2002\n",
      "Transport-moving     1597\n",
      "Handlers-cleaners    1370\n",
      "Farming-fishing       994\n",
      "Tech-support          928\n",
      "Protective-serv       649\n",
      "Priv-house-serv       149\n",
      "Armed-Forces            9\n",
      "Name: count, dtype: int64\n",
      "------------------------------------------------\n",
      "occupation\n",
      "Prof-specialty       2032\n",
      "Exec-managerial      2020\n",
      "Craft-repair         2013\n",
      "Sales                1854\n",
      "Adm-clerical         1841\n",
      "Other-service        1628\n",
      "Machine-op-inspct    1020\n",
      "Transport-moving      758\n",
      "Handlers-cleaners     702\n",
      "Tech-support          518\n",
      "Farming-fishing       496\n",
      "Protective-serv       334\n",
      "Priv-house-serv        93\n",
      "Armed-Forces            6\n",
      "Name: count, dtype: int64\n"
     ]
    }
   ],
   "source": [
    "# Conteo por cada clase\n",
    "print(df_train['occupation'].value_counts())\n",
    "print('------------------------------------------------')\n",
    "print(df_test['occupation'].value_counts())"
   ]
  },
  {
   "cell_type": "markdown",
   "id": "4949da30-aa40-4da7-bf9e-009664c7292e",
   "metadata": {},
   "source": [
    "#### occupation"
   ]
  },
  {
   "cell_type": "code",
   "execution_count": 17,
   "id": "e4b7aa36-a377-4c56-90b1-796ff6c8a037",
   "metadata": {},
   "outputs": [
    {
     "name": "stdout",
     "output_type": "stream",
     "text": [
      "native-country\n",
      "United-States                 29170\n",
      "Mexico                          643\n",
      "Philippines                     198\n",
      "Germany                         137\n",
      "Canada                          121\n",
      "Puerto-Rico                     114\n",
      "El-Salvador                     106\n",
      "India                           100\n",
      "Cuba                             95\n",
      "England                          90\n",
      "Jamaica                          81\n",
      "South                            80\n",
      "China                            75\n",
      "Italy                            73\n",
      "Dominican-Republic               70\n",
      "Vietnam                          67\n",
      "Guatemala                        64\n",
      "Japan                            62\n",
      "Poland                           60\n",
      "Columbia                         59\n",
      "Taiwan                           51\n",
      "Haiti                            44\n",
      "Iran                             43\n",
      "Portugal                         37\n",
      "Nicaragua                        34\n",
      "Peru                             31\n",
      "France                           29\n",
      "Greece                           29\n",
      "Ecuador                          28\n",
      "Ireland                          24\n",
      "Hong                             20\n",
      "Trinadad&Tobago                  19\n",
      "Cambodia                         19\n",
      "Thailand                         18\n",
      "Laos                             18\n",
      "Yugoslavia                       16\n",
      "Outlying-US(Guam-USVI-etc)       14\n",
      "Honduras                         13\n",
      "Hungary                          13\n",
      "Scotland                         12\n",
      "Holand-Netherlands                1\n",
      "Name: count, dtype: int64\n",
      "------------------------------------------------\n",
      "native-country\n",
      "United-States                 14662\n",
      "Mexico                          308\n",
      "Philippines                      97\n",
      "Puerto-Rico                      70\n",
      "Germany                          69\n",
      "Canada                           61\n",
      "India                            51\n",
      "El-Salvador                      49\n",
      "China                            47\n",
      "Cuba                             43\n",
      "England                          37\n",
      "South                            35\n",
      "Dominican-Republic               33\n",
      "Italy                            32\n",
      "Haiti                            31\n",
      "Japan                            30\n",
      "Portugal                         30\n",
      "Poland                           27\n",
      "Columbia                         26\n",
      "Jamaica                          25\n",
      "Guatemala                        24\n",
      "Greece                           20\n",
      "Vietnam                          19\n",
      "Ecuador                          17\n",
      "Iran                             16\n",
      "Peru                             15\n",
      "Nicaragua                        15\n",
      "Taiwan                           14\n",
      "Ireland                          13\n",
      "Thailand                         12\n",
      "Hong                             10\n",
      "Cambodia                          9\n",
      "France                            9\n",
      "Scotland                          9\n",
      "Outlying-US(Guam-USVI-etc)        9\n",
      "Trinadad&Tobago                   8\n",
      "Yugoslavia                        7\n",
      "Honduras                          7\n",
      "Hungary                           6\n",
      "Laos                              5\n",
      "Name: count, dtype: int64\n"
     ]
    }
   ],
   "source": [
    "# Conteo por cada clase\n",
    "print(df_train['native-country'].value_counts())\n",
    "print('------------------------------------------------')\n",
    "print(df_test['native-country'].value_counts())"
   ]
  },
  {
   "cell_type": "code",
   "execution_count": null,
   "id": "f7123a3c-880c-4656-85de-c463959757af",
   "metadata": {},
   "outputs": [],
   "source": []
  }
 ],
 "metadata": {
  "kernelspec": {
   "display_name": "test1",
   "language": "python",
   "name": "project_env_name"
  },
  "language_info": {
   "codemirror_mode": {
    "name": "ipython",
    "version": 3
   },
   "file_extension": ".py",
   "mimetype": "text/x-python",
   "name": "python",
   "nbconvert_exporter": "python",
   "pygments_lexer": "ipython3",
   "version": "3.12.10"
  }
 },
 "nbformat": 4,
 "nbformat_minor": 5
}
