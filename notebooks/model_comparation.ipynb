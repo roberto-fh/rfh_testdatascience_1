{
 "cells": [
  {
   "cell_type": "code",
   "execution_count": 1,
   "id": "dd69285c-3077-4d9f-afc1-b0ef1b783074",
   "metadata": {},
   "outputs": [
    {
     "name": "stderr",
     "output_type": "stream",
     "text": [
      "\u001b[32m2025-08-02 14:01:26.866\u001b[0m | \u001b[1mINFO    \u001b[0m | \u001b[36mrfh_testdatascience_1.config\u001b[0m:\u001b[36m<module>\u001b[0m:\u001b[36m11\u001b[0m - \u001b[1mPROJ_ROOT path is: C:\\Users\\Usuario\\Desktop\\Capgemini\\RFH-TestDataScience-1\\rfh_testdatascience_1\u001b[0m\n"
     ]
    }
   ],
   "source": [
    "from rfh_testdatascience_1.main import main"
   ]
  },
  {
   "cell_type": "markdown",
   "id": "1a288aec-72d1-4d35-b375-5ea68b3d2a46",
   "metadata": {},
   "source": [
    "### Caso 1: NO processing NO oversampling"
   ]
  },
  {
   "cell_type": "markdown",
   "id": "fc1878ca-542b-4a14-8cdf-1818792fc53a",
   "metadata": {},
   "source": [
    "#### Primero usamos grid search para saber cual son los mejores parámetros"
   ]
  },
  {
   "cell_type": "code",
   "execution_count": 2,
   "id": "c2396e3c-1596-410a-924d-820a542bbf32",
   "metadata": {},
   "outputs": [
    {
     "name": "stderr",
     "output_type": "stream",
     "text": [
      "\u001b[32m2025-08-02 14:01:28.454\u001b[0m | \u001b[1mINFO    \u001b[0m | \u001b[36mrfh_testdatascience_1.main\u001b[0m:\u001b[36mmain\u001b[0m:\u001b[36m21\u001b[0m - \u001b[1mCarga de datos\u001b[0m\n",
      "\u001b[32m2025-08-02 14:01:28.503\u001b[0m | \u001b[1mINFO    \u001b[0m | \u001b[36mrfh_testdatascience_1.main\u001b[0m:\u001b[36mmain\u001b[0m:\u001b[36m31\u001b[0m - \u001b[1mEntrenamiento del modelo\u001b[0m\n",
      "\u001b[32m2025-08-02 14:01:28.508\u001b[0m | \u001b[1mINFO    \u001b[0m | \u001b[36mrfh_testdatascience_1.train\u001b[0m:\u001b[36mexecute\u001b[0m:\u001b[36m43\u001b[0m - \u001b[1mAplicando transformaciones a los datos\u001b[0m\n",
      "\u001b[32m2025-08-02 14:01:28.508\u001b[0m | \u001b[1mINFO    \u001b[0m | \u001b[36mrfh_testdatascience_1.pipeline\u001b[0m:\u001b[36mexecute\u001b[0m:\u001b[36m130\u001b[0m - \u001b[1mAplicando OHE a las variables categóricas\u001b[0m\n",
      "\u001b[32m2025-08-02 14:01:28.509\u001b[0m | \u001b[1mINFO    \u001b[0m | \u001b[36mrfh_testdatascience_1.pipeline\u001b[0m:\u001b[36mexecute\u001b[0m:\u001b[36m143\u001b[0m - \u001b[1mSet up del modelo\u001b[0m\n",
      "\u001b[32m2025-08-02 14:01:28.509\u001b[0m | \u001b[1mINFO    \u001b[0m | \u001b[36mrfh_testdatascience_1.pipeline\u001b[0m:\u001b[36mexecute\u001b[0m:\u001b[36m144\u001b[0m - \u001b[1mn_estimators :200\u001b[0m\n",
      "\u001b[32m2025-08-02 14:01:28.510\u001b[0m | \u001b[1mINFO    \u001b[0m | \u001b[36mrfh_testdatascience_1.pipeline\u001b[0m:\u001b[36mexecute\u001b[0m:\u001b[36m145\u001b[0m - \u001b[1mlearning_rate :0.1\u001b[0m\n",
      "\u001b[32m2025-08-02 14:01:28.510\u001b[0m | \u001b[1mINFO    \u001b[0m | \u001b[36mrfh_testdatascience_1.pipeline\u001b[0m:\u001b[36mexecute\u001b[0m:\u001b[36m146\u001b[0m - \u001b[1mmax_depth :5\u001b[0m\n",
      "\u001b[32m2025-08-02 14:01:28.510\u001b[0m | \u001b[1mINFO    \u001b[0m | \u001b[36mrfh_testdatascience_1.train\u001b[0m:\u001b[36mexecute\u001b[0m:\u001b[36m56\u001b[0m - \u001b[1mSeparación test y train\u001b[0m\n",
      "\u001b[32m2025-08-02 14:01:28.525\u001b[0m | \u001b[1mINFO    \u001b[0m | \u001b[36mrfh_testdatascience_1.train\u001b[0m:\u001b[36mexecute\u001b[0m:\u001b[36m62\u001b[0m - \u001b[1mInicio grid search\u001b[0m\n"
     ]
    },
    {
     "name": "stdout",
     "output_type": "stream",
     "text": [
      "Fitting 5 folds for each of 18 candidates, totalling 90 fits\n"
     ]
    },
    {
     "name": "stderr",
     "output_type": "stream",
     "text": [
      "\u001b[32m2025-08-02 14:01:38.644\u001b[0m | \u001b[1mINFO    \u001b[0m | \u001b[36mrfh_testdatascience_1.main\u001b[0m:\u001b[36mmain\u001b[0m:\u001b[36m46\u001b[0m - \u001b[1mFin del proceso de Grid search\u001b[0m\n"
     ]
    },
    {
     "name": "stdout",
     "output_type": "stream",
     "text": [
      "Best params: {'model__learning_rate': 0.1, 'model__max_depth': 5, 'model__n_estimators': 200}\n",
      "Best score: 0.6111016495955949\n"
     ]
    }
   ],
   "source": [
    "main(\n",
    "        model_name_arg='test1',\n",
    "        processing_ind=False,\n",
    "        oversampling_ind=False,\n",
    "        grid_search_ind_arg=True,\n",
    "        test_arg=True,\n",
    ")"
   ]
  },
  {
   "cell_type": "markdown",
   "id": "4613a584-a557-44ac-91bb-f0f79ea7c17c",
   "metadata": {},
   "source": [
    "#### Calculamos las métricas con estos hiperparametos"
   ]
  },
  {
   "cell_type": "code",
   "execution_count": 3,
   "id": "082cbd57-1236-4e34-84f3-478fa7417a7b",
   "metadata": {},
   "outputs": [
    {
     "name": "stderr",
     "output_type": "stream",
     "text": [
      "\u001b[32m2025-08-02 14:01:38.654\u001b[0m | \u001b[1mINFO    \u001b[0m | \u001b[36mrfh_testdatascience_1.main\u001b[0m:\u001b[36mmain\u001b[0m:\u001b[36m21\u001b[0m - \u001b[1mCarga de datos\u001b[0m\n",
      "\u001b[32m2025-08-02 14:01:38.719\u001b[0m | \u001b[1mINFO    \u001b[0m | \u001b[36mrfh_testdatascience_1.main\u001b[0m:\u001b[36mmain\u001b[0m:\u001b[36m31\u001b[0m - \u001b[1mEntrenamiento del modelo\u001b[0m\n",
      "\u001b[32m2025-08-02 14:01:38.724\u001b[0m | \u001b[1mINFO    \u001b[0m | \u001b[36mrfh_testdatascience_1.train\u001b[0m:\u001b[36mexecute\u001b[0m:\u001b[36m43\u001b[0m - \u001b[1mAplicando transformaciones a los datos\u001b[0m\n",
      "\u001b[32m2025-08-02 14:01:38.725\u001b[0m | \u001b[1mINFO    \u001b[0m | \u001b[36mrfh_testdatascience_1.pipeline\u001b[0m:\u001b[36mexecute\u001b[0m:\u001b[36m130\u001b[0m - \u001b[1mAplicando OHE a las variables categóricas\u001b[0m\n",
      "\u001b[32m2025-08-02 14:01:38.725\u001b[0m | \u001b[1mINFO    \u001b[0m | \u001b[36mrfh_testdatascience_1.pipeline\u001b[0m:\u001b[36mexecute\u001b[0m:\u001b[36m143\u001b[0m - \u001b[1mSet up del modelo\u001b[0m\n",
      "\u001b[32m2025-08-02 14:01:38.726\u001b[0m | \u001b[1mINFO    \u001b[0m | \u001b[36mrfh_testdatascience_1.pipeline\u001b[0m:\u001b[36mexecute\u001b[0m:\u001b[36m144\u001b[0m - \u001b[1mn_estimators :200\u001b[0m\n",
      "\u001b[32m2025-08-02 14:01:38.726\u001b[0m | \u001b[1mINFO    \u001b[0m | \u001b[36mrfh_testdatascience_1.pipeline\u001b[0m:\u001b[36mexecute\u001b[0m:\u001b[36m145\u001b[0m - \u001b[1mlearning_rate :0.1\u001b[0m\n",
      "\u001b[32m2025-08-02 14:01:38.727\u001b[0m | \u001b[1mINFO    \u001b[0m | \u001b[36mrfh_testdatascience_1.pipeline\u001b[0m:\u001b[36mexecute\u001b[0m:\u001b[36m146\u001b[0m - \u001b[1mmax_depth :5\u001b[0m\n",
      "\u001b[32m2025-08-02 14:01:38.728\u001b[0m | \u001b[1mINFO    \u001b[0m | \u001b[36mrfh_testdatascience_1.train\u001b[0m:\u001b[36mexecute\u001b[0m:\u001b[36m56\u001b[0m - \u001b[1mSeparación test y train\u001b[0m\n",
      "\u001b[32m2025-08-02 14:01:38.745\u001b[0m | \u001b[1mINFO    \u001b[0m | \u001b[36mrfh_testdatascience_1.train\u001b[0m:\u001b[36mexecute\u001b[0m:\u001b[36m77\u001b[0m - \u001b[1mAjustando pipeline\u001b[0m\n",
      "\u001b[32m2025-08-02 14:01:38.930\u001b[0m | \u001b[1mINFO    \u001b[0m | \u001b[36mrfh_testdatascience_1.main\u001b[0m:\u001b[36mmain\u001b[0m:\u001b[36m57\u001b[0m - \u001b[1m\n",
      "=== Resultados del modelo ===\u001b[0m\n",
      "\u001b[32m2025-08-02 14:01:38.930\u001b[0m | \u001b[1mINFO    \u001b[0m | \u001b[36mrfh_testdatascience_1.main\u001b[0m:\u001b[36mmain\u001b[0m:\u001b[36m58\u001b[0m - \u001b[1mAccuracy: 0.8303\u001b[0m\n",
      "\u001b[32m2025-08-02 14:01:38.931\u001b[0m | \u001b[1mINFO    \u001b[0m | \u001b[36mrfh_testdatascience_1.main\u001b[0m:\u001b[36mmain\u001b[0m:\u001b[36m59\u001b[0m - \u001b[1mAccuracy: 0.6100\u001b[0m\n",
      "\u001b[32m2025-08-02 14:01:38.941\u001b[0m | \u001b[1mINFO    \u001b[0m | \u001b[36mrfh_testdatascience_1.main\u001b[0m:\u001b[36mmain\u001b[0m:\u001b[36m61\u001b[0m - \u001b[1mFin del proceso de testing\u001b[0m\n"
     ]
    },
    {
     "name": "stdout",
     "output_type": "stream",
     "text": [
      "              precision    recall  f1-score   support\n",
      "\n",
      "           0       0.87      0.92      0.89      4945\n",
      "           1       0.68      0.55      0.61      1568\n",
      "\n",
      "    accuracy                           0.83      6513\n",
      "   macro avg       0.77      0.73      0.75      6513\n",
      "weighted avg       0.82      0.83      0.82      6513\n",
      "\n"
     ]
    }
   ],
   "source": [
    "main(\n",
    "        model_name_arg='test1',\n",
    "        processing_ind=False,\n",
    "        oversampling_ind=False,\n",
    "        grid_search_ind_arg=False,\n",
    "        test_arg=True,\n",
    "        learning_rate=0.1,\n",
    "        max_depth=5,\n",
    "        n_estimators=200\n",
    ")"
   ]
  },
  {
   "cell_type": "markdown",
   "id": "0c31943f-c4fe-4bde-982f-c954070443a8",
   "metadata": {},
   "source": [
    "### Caso 1: SI processing NO oversampling"
   ]
  },
  {
   "cell_type": "markdown",
   "id": "86d97f87-cf81-4396-b9a0-cbe8f5bcb454",
   "metadata": {},
   "source": [
    "#### Primero usamos grid search para saber cual son los mejores parámetros"
   ]
  },
  {
   "cell_type": "code",
   "execution_count": 4,
   "id": "c94a826b-002f-48cc-96dc-a9f5357e6844",
   "metadata": {},
   "outputs": [
    {
     "name": "stderr",
     "output_type": "stream",
     "text": [
      "\u001b[32m2025-08-02 14:01:38.950\u001b[0m | \u001b[1mINFO    \u001b[0m | \u001b[36mrfh_testdatascience_1.main\u001b[0m:\u001b[36mmain\u001b[0m:\u001b[36m21\u001b[0m - \u001b[1mCarga de datos\u001b[0m\n",
      "\u001b[32m2025-08-02 14:01:39.015\u001b[0m | \u001b[1mINFO    \u001b[0m | \u001b[36mrfh_testdatascience_1.main\u001b[0m:\u001b[36mmain\u001b[0m:\u001b[36m31\u001b[0m - \u001b[1mEntrenamiento del modelo\u001b[0m\n",
      "\u001b[32m2025-08-02 14:01:39.021\u001b[0m | \u001b[1mINFO    \u001b[0m | \u001b[36mrfh_testdatascience_1.train\u001b[0m:\u001b[36mexecute\u001b[0m:\u001b[36m43\u001b[0m - \u001b[1mAplicando transformaciones a los datos\u001b[0m\n",
      "\u001b[32m2025-08-02 14:01:39.022\u001b[0m | \u001b[1mINFO    \u001b[0m | \u001b[36mrfh_testdatascience_1.pipeline\u001b[0m:\u001b[36mexecute\u001b[0m:\u001b[36m123\u001b[0m - \u001b[1mRelleno de nulos\u001b[0m\n",
      "\u001b[32m2025-08-02 14:01:39.022\u001b[0m | \u001b[1mINFO    \u001b[0m | \u001b[36mrfh_testdatascience_1.pipeline\u001b[0m:\u001b[36mexecute\u001b[0m:\u001b[36m125\u001b[0m - \u001b[1mNuevas columnas creadas\u001b[0m\n",
      "\u001b[32m2025-08-02 14:01:39.023\u001b[0m | \u001b[1mINFO    \u001b[0m | \u001b[36mrfh_testdatascience_1.pipeline\u001b[0m:\u001b[36mexecute\u001b[0m:\u001b[36m127\u001b[0m - \u001b[1mSelección de columnas importantes\u001b[0m\n",
      "\u001b[32m2025-08-02 14:01:39.023\u001b[0m | \u001b[1mINFO    \u001b[0m | \u001b[36mrfh_testdatascience_1.pipeline\u001b[0m:\u001b[36mexecute\u001b[0m:\u001b[36m130\u001b[0m - \u001b[1mAplicando OHE a las variables categóricas\u001b[0m\n",
      "\u001b[32m2025-08-02 14:01:39.024\u001b[0m | \u001b[1mINFO    \u001b[0m | \u001b[36mrfh_testdatascience_1.pipeline\u001b[0m:\u001b[36mexecute\u001b[0m:\u001b[36m143\u001b[0m - \u001b[1mSet up del modelo\u001b[0m\n",
      "\u001b[32m2025-08-02 14:01:39.024\u001b[0m | \u001b[1mINFO    \u001b[0m | \u001b[36mrfh_testdatascience_1.pipeline\u001b[0m:\u001b[36mexecute\u001b[0m:\u001b[36m144\u001b[0m - \u001b[1mn_estimators :200\u001b[0m\n",
      "\u001b[32m2025-08-02 14:01:39.025\u001b[0m | \u001b[1mINFO    \u001b[0m | \u001b[36mrfh_testdatascience_1.pipeline\u001b[0m:\u001b[36mexecute\u001b[0m:\u001b[36m145\u001b[0m - \u001b[1mlearning_rate :0.1\u001b[0m\n",
      "\u001b[32m2025-08-02 14:01:39.025\u001b[0m | \u001b[1mINFO    \u001b[0m | \u001b[36mrfh_testdatascience_1.pipeline\u001b[0m:\u001b[36mexecute\u001b[0m:\u001b[36m146\u001b[0m - \u001b[1mmax_depth :5\u001b[0m\n",
      "\u001b[32m2025-08-02 14:01:39.025\u001b[0m | \u001b[1mINFO    \u001b[0m | \u001b[36mrfh_testdatascience_1.train\u001b[0m:\u001b[36mexecute\u001b[0m:\u001b[36m56\u001b[0m - \u001b[1mSeparación test y train\u001b[0m\n",
      "\u001b[32m2025-08-02 14:01:39.045\u001b[0m | \u001b[1mINFO    \u001b[0m | \u001b[36mrfh_testdatascience_1.train\u001b[0m:\u001b[36mexecute\u001b[0m:\u001b[36m62\u001b[0m - \u001b[1mInicio grid search\u001b[0m\n"
     ]
    },
    {
     "name": "stdout",
     "output_type": "stream",
     "text": [
      "Fitting 5 folds for each of 18 candidates, totalling 90 fits\n"
     ]
    },
    {
     "name": "stderr",
     "output_type": "stream",
     "text": [
      "\u001b[32m2025-08-02 14:01:48.309\u001b[0m | \u001b[1mINFO    \u001b[0m | \u001b[36mrfh_testdatascience_1.main\u001b[0m:\u001b[36mmain\u001b[0m:\u001b[36m46\u001b[0m - \u001b[1mFin del proceso de Grid search\u001b[0m\n"
     ]
    },
    {
     "name": "stdout",
     "output_type": "stream",
     "text": [
      "Best params: {'model__learning_rate': 0.05, 'model__max_depth': 5, 'model__n_estimators': 300}\n",
      "Best score: 0.609529054892369\n"
     ]
    }
   ],
   "source": [
    "main(\n",
    "        model_name_arg='test2',\n",
    "        processing_ind=True,\n",
    "        oversampling_ind=False,\n",
    "        grid_search_ind_arg=True,\n",
    "        test_arg=True,\n",
    ")"
   ]
  },
  {
   "cell_type": "markdown",
   "id": "89ba93b3-9050-4d09-93f4-6c403da773ad",
   "metadata": {},
   "source": [
    "#### Calculamos las métricas con estos hiperparámetros"
   ]
  },
  {
   "cell_type": "code",
   "execution_count": 5,
   "id": "8dfd0b96-30d8-409d-90f5-34e0c1738b50",
   "metadata": {},
   "outputs": [
    {
     "name": "stderr",
     "output_type": "stream",
     "text": [
      "\u001b[32m2025-08-02 14:01:48.316\u001b[0m | \u001b[1mINFO    \u001b[0m | \u001b[36mrfh_testdatascience_1.main\u001b[0m:\u001b[36mmain\u001b[0m:\u001b[36m21\u001b[0m - \u001b[1mCarga de datos\u001b[0m\n",
      "\u001b[32m2025-08-02 14:01:48.383\u001b[0m | \u001b[1mINFO    \u001b[0m | \u001b[36mrfh_testdatascience_1.main\u001b[0m:\u001b[36mmain\u001b[0m:\u001b[36m31\u001b[0m - \u001b[1mEntrenamiento del modelo\u001b[0m\n",
      "\u001b[32m2025-08-02 14:01:48.388\u001b[0m | \u001b[1mINFO    \u001b[0m | \u001b[36mrfh_testdatascience_1.train\u001b[0m:\u001b[36mexecute\u001b[0m:\u001b[36m43\u001b[0m - \u001b[1mAplicando transformaciones a los datos\u001b[0m\n",
      "\u001b[32m2025-08-02 14:01:48.389\u001b[0m | \u001b[1mINFO    \u001b[0m | \u001b[36mrfh_testdatascience_1.pipeline\u001b[0m:\u001b[36mexecute\u001b[0m:\u001b[36m123\u001b[0m - \u001b[1mRelleno de nulos\u001b[0m\n",
      "\u001b[32m2025-08-02 14:01:48.389\u001b[0m | \u001b[1mINFO    \u001b[0m | \u001b[36mrfh_testdatascience_1.pipeline\u001b[0m:\u001b[36mexecute\u001b[0m:\u001b[36m125\u001b[0m - \u001b[1mNuevas columnas creadas\u001b[0m\n",
      "\u001b[32m2025-08-02 14:01:48.390\u001b[0m | \u001b[1mINFO    \u001b[0m | \u001b[36mrfh_testdatascience_1.pipeline\u001b[0m:\u001b[36mexecute\u001b[0m:\u001b[36m127\u001b[0m - \u001b[1mSelección de columnas importantes\u001b[0m\n",
      "\u001b[32m2025-08-02 14:01:48.390\u001b[0m | \u001b[1mINFO    \u001b[0m | \u001b[36mrfh_testdatascience_1.pipeline\u001b[0m:\u001b[36mexecute\u001b[0m:\u001b[36m130\u001b[0m - \u001b[1mAplicando OHE a las variables categóricas\u001b[0m\n",
      "\u001b[32m2025-08-02 14:01:48.391\u001b[0m | \u001b[1mINFO    \u001b[0m | \u001b[36mrfh_testdatascience_1.pipeline\u001b[0m:\u001b[36mexecute\u001b[0m:\u001b[36m143\u001b[0m - \u001b[1mSet up del modelo\u001b[0m\n",
      "\u001b[32m2025-08-02 14:01:48.392\u001b[0m | \u001b[1mINFO    \u001b[0m | \u001b[36mrfh_testdatascience_1.pipeline\u001b[0m:\u001b[36mexecute\u001b[0m:\u001b[36m144\u001b[0m - \u001b[1mn_estimators :300\u001b[0m\n",
      "\u001b[32m2025-08-02 14:01:48.392\u001b[0m | \u001b[1mINFO    \u001b[0m | \u001b[36mrfh_testdatascience_1.pipeline\u001b[0m:\u001b[36mexecute\u001b[0m:\u001b[36m145\u001b[0m - \u001b[1mlearning_rate :0.05\u001b[0m\n",
      "\u001b[32m2025-08-02 14:01:48.393\u001b[0m | \u001b[1mINFO    \u001b[0m | \u001b[36mrfh_testdatascience_1.pipeline\u001b[0m:\u001b[36mexecute\u001b[0m:\u001b[36m146\u001b[0m - \u001b[1mmax_depth :5\u001b[0m\n",
      "\u001b[32m2025-08-02 14:01:48.394\u001b[0m | \u001b[1mINFO    \u001b[0m | \u001b[36mrfh_testdatascience_1.train\u001b[0m:\u001b[36mexecute\u001b[0m:\u001b[36m56\u001b[0m - \u001b[1mSeparación test y train\u001b[0m\n",
      "\u001b[32m2025-08-02 14:01:48.413\u001b[0m | \u001b[1mINFO    \u001b[0m | \u001b[36mrfh_testdatascience_1.train\u001b[0m:\u001b[36mexecute\u001b[0m:\u001b[36m77\u001b[0m - \u001b[1mAjustando pipeline\u001b[0m\n",
      "\u001b[32m2025-08-02 14:01:48.753\u001b[0m | \u001b[1mINFO    \u001b[0m | \u001b[36mrfh_testdatascience_1.main\u001b[0m:\u001b[36mmain\u001b[0m:\u001b[36m57\u001b[0m - \u001b[1m\n",
      "=== Resultados del modelo ===\u001b[0m\n",
      "\u001b[32m2025-08-02 14:01:48.754\u001b[0m | \u001b[1mINFO    \u001b[0m | \u001b[36mrfh_testdatascience_1.main\u001b[0m:\u001b[36mmain\u001b[0m:\u001b[36m58\u001b[0m - \u001b[1mAccuracy: 0.8326\u001b[0m\n",
      "\u001b[32m2025-08-02 14:01:48.754\u001b[0m | \u001b[1mINFO    \u001b[0m | \u001b[36mrfh_testdatascience_1.main\u001b[0m:\u001b[36mmain\u001b[0m:\u001b[36m59\u001b[0m - \u001b[1mAccuracy: 0.6110\u001b[0m\n",
      "\u001b[32m2025-08-02 14:01:48.764\u001b[0m | \u001b[1mINFO    \u001b[0m | \u001b[36mrfh_testdatascience_1.main\u001b[0m:\u001b[36mmain\u001b[0m:\u001b[36m61\u001b[0m - \u001b[1mFin del proceso de testing\u001b[0m\n"
     ]
    },
    {
     "name": "stdout",
     "output_type": "stream",
     "text": [
      "              precision    recall  f1-score   support\n",
      "\n",
      "           0       0.87      0.92      0.89      4945\n",
      "           1       0.69      0.55      0.61      1568\n",
      "\n",
      "    accuracy                           0.83      6513\n",
      "   macro avg       0.78      0.73      0.75      6513\n",
      "weighted avg       0.82      0.83      0.83      6513\n",
      "\n"
     ]
    }
   ],
   "source": [
    "main(\n",
    "        model_name_arg='test2',\n",
    "        processing_ind=True,\n",
    "        oversampling_ind=False,\n",
    "        grid_search_ind_arg=False,\n",
    "        test_arg=True,\n",
    "        learning_rate=0.05,\n",
    "        max_depth=5,\n",
    "        n_estimators=300\n",
    ")"
   ]
  },
  {
   "cell_type": "markdown",
   "id": "8f8ec1c8-5774-4c09-a7a0-e0267b8a68ce",
   "metadata": {},
   "source": [
    "### Caso 1: SI processing SI oversampling"
   ]
  },
  {
   "cell_type": "markdown",
   "id": "89b31778-5904-4cd4-bc08-3998e02a48ff",
   "metadata": {},
   "source": [
    "#### Primero usamos grid search para saber cual son los mejores parámetros"
   ]
  },
  {
   "cell_type": "code",
   "execution_count": 6,
   "id": "3623a3f7-9000-4299-885d-5636a435b933",
   "metadata": {},
   "outputs": [
    {
     "name": "stderr",
     "output_type": "stream",
     "text": [
      "\u001b[32m2025-08-02 14:01:48.774\u001b[0m | \u001b[1mINFO    \u001b[0m | \u001b[36mrfh_testdatascience_1.main\u001b[0m:\u001b[36mmain\u001b[0m:\u001b[36m21\u001b[0m - \u001b[1mCarga de datos\u001b[0m\n",
      "\u001b[32m2025-08-02 14:01:48.840\u001b[0m | \u001b[1mINFO    \u001b[0m | \u001b[36mrfh_testdatascience_1.main\u001b[0m:\u001b[36mmain\u001b[0m:\u001b[36m31\u001b[0m - \u001b[1mEntrenamiento del modelo\u001b[0m\n",
      "\u001b[32m2025-08-02 14:01:48.847\u001b[0m | \u001b[1mINFO    \u001b[0m | \u001b[36mrfh_testdatascience_1.train\u001b[0m:\u001b[36mexecute\u001b[0m:\u001b[36m43\u001b[0m - \u001b[1mAplicando transformaciones a los datos\u001b[0m\n",
      "\u001b[32m2025-08-02 14:01:48.848\u001b[0m | \u001b[1mINFO    \u001b[0m | \u001b[36mrfh_testdatascience_1.pipeline\u001b[0m:\u001b[36mexecute\u001b[0m:\u001b[36m123\u001b[0m - \u001b[1mRelleno de nulos\u001b[0m\n",
      "\u001b[32m2025-08-02 14:01:48.848\u001b[0m | \u001b[1mINFO    \u001b[0m | \u001b[36mrfh_testdatascience_1.pipeline\u001b[0m:\u001b[36mexecute\u001b[0m:\u001b[36m125\u001b[0m - \u001b[1mNuevas columnas creadas\u001b[0m\n",
      "\u001b[32m2025-08-02 14:01:48.849\u001b[0m | \u001b[1mINFO    \u001b[0m | \u001b[36mrfh_testdatascience_1.pipeline\u001b[0m:\u001b[36mexecute\u001b[0m:\u001b[36m127\u001b[0m - \u001b[1mSelección de columnas importantes\u001b[0m\n",
      "\u001b[32m2025-08-02 14:01:48.849\u001b[0m | \u001b[1mINFO    \u001b[0m | \u001b[36mrfh_testdatascience_1.pipeline\u001b[0m:\u001b[36mexecute\u001b[0m:\u001b[36m130\u001b[0m - \u001b[1mAplicando OHE a las variables categóricas\u001b[0m\n",
      "\u001b[32m2025-08-02 14:01:48.850\u001b[0m | \u001b[1mINFO    \u001b[0m | \u001b[36mrfh_testdatascience_1.pipeline\u001b[0m:\u001b[36mexecute\u001b[0m:\u001b[36m133\u001b[0m - \u001b[1mAplicando oversampling\u001b[0m\n",
      "\u001b[32m2025-08-02 14:01:48.850\u001b[0m | \u001b[1mINFO    \u001b[0m | \u001b[36mrfh_testdatascience_1.pipeline\u001b[0m:\u001b[36mexecute\u001b[0m:\u001b[36m143\u001b[0m - \u001b[1mSet up del modelo\u001b[0m\n",
      "\u001b[32m2025-08-02 14:01:48.851\u001b[0m | \u001b[1mINFO    \u001b[0m | \u001b[36mrfh_testdatascience_1.pipeline\u001b[0m:\u001b[36mexecute\u001b[0m:\u001b[36m144\u001b[0m - \u001b[1mn_estimators :200\u001b[0m\n",
      "\u001b[32m2025-08-02 14:01:48.851\u001b[0m | \u001b[1mINFO    \u001b[0m | \u001b[36mrfh_testdatascience_1.pipeline\u001b[0m:\u001b[36mexecute\u001b[0m:\u001b[36m145\u001b[0m - \u001b[1mlearning_rate :0.1\u001b[0m\n",
      "\u001b[32m2025-08-02 14:01:48.852\u001b[0m | \u001b[1mINFO    \u001b[0m | \u001b[36mrfh_testdatascience_1.pipeline\u001b[0m:\u001b[36mexecute\u001b[0m:\u001b[36m146\u001b[0m - \u001b[1mmax_depth :5\u001b[0m\n",
      "\u001b[32m2025-08-02 14:01:48.852\u001b[0m | \u001b[1mINFO    \u001b[0m | \u001b[36mrfh_testdatascience_1.train\u001b[0m:\u001b[36mexecute\u001b[0m:\u001b[36m56\u001b[0m - \u001b[1mSeparación test y train\u001b[0m\n",
      "\u001b[32m2025-08-02 14:01:48.868\u001b[0m | \u001b[1mINFO    \u001b[0m | \u001b[36mrfh_testdatascience_1.train\u001b[0m:\u001b[36mexecute\u001b[0m:\u001b[36m62\u001b[0m - \u001b[1mInicio grid search\u001b[0m\n"
     ]
    },
    {
     "name": "stdout",
     "output_type": "stream",
     "text": [
      "Fitting 5 folds for each of 18 candidates, totalling 90 fits\n"
     ]
    },
    {
     "name": "stderr",
     "output_type": "stream",
     "text": [
      "\u001b[32m2025-08-02 14:02:42.802\u001b[0m | \u001b[1mINFO    \u001b[0m | \u001b[36mrfh_testdatascience_1.main\u001b[0m:\u001b[36mmain\u001b[0m:\u001b[36m46\u001b[0m - \u001b[1mFin del proceso de Grid search\u001b[0m\n"
     ]
    },
    {
     "name": "stdout",
     "output_type": "stream",
     "text": [
      "Best params: {'model__learning_rate': 0.1, 'model__max_depth': 3, 'model__n_estimators': 300}\n",
      "Best score: 0.6458264279017694\n"
     ]
    }
   ],
   "source": [
    "main(\n",
    "        model_name_arg='test3',\n",
    "        processing_ind=True,\n",
    "        oversampling_ind=True,\n",
    "        grid_search_ind_arg=True,\n",
    "        test_arg=True,\n",
    ")"
   ]
  },
  {
   "cell_type": "code",
   "execution_count": 7,
   "id": "b717bb40-e45b-4530-8f64-b3a5194a3403",
   "metadata": {},
   "outputs": [
    {
     "name": "stderr",
     "output_type": "stream",
     "text": [
      "\u001b[32m2025-08-02 14:02:42.813\u001b[0m | \u001b[1mINFO    \u001b[0m | \u001b[36mrfh_testdatascience_1.main\u001b[0m:\u001b[36mmain\u001b[0m:\u001b[36m21\u001b[0m - \u001b[1mCarga de datos\u001b[0m\n",
      "\u001b[32m2025-08-02 14:02:42.883\u001b[0m | \u001b[1mINFO    \u001b[0m | \u001b[36mrfh_testdatascience_1.main\u001b[0m:\u001b[36mmain\u001b[0m:\u001b[36m31\u001b[0m - \u001b[1mEntrenamiento del modelo\u001b[0m\n",
      "\u001b[32m2025-08-02 14:02:42.889\u001b[0m | \u001b[1mINFO    \u001b[0m | \u001b[36mrfh_testdatascience_1.train\u001b[0m:\u001b[36mexecute\u001b[0m:\u001b[36m43\u001b[0m - \u001b[1mAplicando transformaciones a los datos\u001b[0m\n",
      "\u001b[32m2025-08-02 14:02:42.890\u001b[0m | \u001b[1mINFO    \u001b[0m | \u001b[36mrfh_testdatascience_1.pipeline\u001b[0m:\u001b[36mexecute\u001b[0m:\u001b[36m123\u001b[0m - \u001b[1mRelleno de nulos\u001b[0m\n",
      "\u001b[32m2025-08-02 14:02:42.891\u001b[0m | \u001b[1mINFO    \u001b[0m | \u001b[36mrfh_testdatascience_1.pipeline\u001b[0m:\u001b[36mexecute\u001b[0m:\u001b[36m125\u001b[0m - \u001b[1mNuevas columnas creadas\u001b[0m\n",
      "\u001b[32m2025-08-02 14:02:42.891\u001b[0m | \u001b[1mINFO    \u001b[0m | \u001b[36mrfh_testdatascience_1.pipeline\u001b[0m:\u001b[36mexecute\u001b[0m:\u001b[36m127\u001b[0m - \u001b[1mSelección de columnas importantes\u001b[0m\n",
      "\u001b[32m2025-08-02 14:02:42.892\u001b[0m | \u001b[1mINFO    \u001b[0m | \u001b[36mrfh_testdatascience_1.pipeline\u001b[0m:\u001b[36mexecute\u001b[0m:\u001b[36m130\u001b[0m - \u001b[1mAplicando OHE a las variables categóricas\u001b[0m\n",
      "\u001b[32m2025-08-02 14:02:42.892\u001b[0m | \u001b[1mINFO    \u001b[0m | \u001b[36mrfh_testdatascience_1.pipeline\u001b[0m:\u001b[36mexecute\u001b[0m:\u001b[36m133\u001b[0m - \u001b[1mAplicando oversampling\u001b[0m\n",
      "\u001b[32m2025-08-02 14:02:42.893\u001b[0m | \u001b[1mINFO    \u001b[0m | \u001b[36mrfh_testdatascience_1.pipeline\u001b[0m:\u001b[36mexecute\u001b[0m:\u001b[36m143\u001b[0m - \u001b[1mSet up del modelo\u001b[0m\n",
      "\u001b[32m2025-08-02 14:02:42.894\u001b[0m | \u001b[1mINFO    \u001b[0m | \u001b[36mrfh_testdatascience_1.pipeline\u001b[0m:\u001b[36mexecute\u001b[0m:\u001b[36m144\u001b[0m - \u001b[1mn_estimators :300\u001b[0m\n",
      "\u001b[32m2025-08-02 14:02:42.894\u001b[0m | \u001b[1mINFO    \u001b[0m | \u001b[36mrfh_testdatascience_1.pipeline\u001b[0m:\u001b[36mexecute\u001b[0m:\u001b[36m145\u001b[0m - \u001b[1mlearning_rate :0.1\u001b[0m\n",
      "\u001b[32m2025-08-02 14:02:42.894\u001b[0m | \u001b[1mINFO    \u001b[0m | \u001b[36mrfh_testdatascience_1.pipeline\u001b[0m:\u001b[36mexecute\u001b[0m:\u001b[36m146\u001b[0m - \u001b[1mmax_depth :3\u001b[0m\n",
      "\u001b[32m2025-08-02 14:02:42.895\u001b[0m | \u001b[1mINFO    \u001b[0m | \u001b[36mrfh_testdatascience_1.train\u001b[0m:\u001b[36mexecute\u001b[0m:\u001b[36m56\u001b[0m - \u001b[1mSeparación test y train\u001b[0m\n",
      "\u001b[32m2025-08-02 14:02:42.912\u001b[0m | \u001b[1mINFO    \u001b[0m | \u001b[36mrfh_testdatascience_1.train\u001b[0m:\u001b[36mexecute\u001b[0m:\u001b[36m77\u001b[0m - \u001b[1mAjustando pipeline\u001b[0m\n",
      "\u001b[32m2025-08-02 14:02:44.519\u001b[0m | \u001b[1mINFO    \u001b[0m | \u001b[36mrfh_testdatascience_1.main\u001b[0m:\u001b[36mmain\u001b[0m:\u001b[36m57\u001b[0m - \u001b[1m\n",
      "=== Resultados del modelo ===\u001b[0m\n",
      "\u001b[32m2025-08-02 14:02:44.520\u001b[0m | \u001b[1mINFO    \u001b[0m | \u001b[36mrfh_testdatascience_1.main\u001b[0m:\u001b[36mmain\u001b[0m:\u001b[36m58\u001b[0m - \u001b[1mAccuracy: 0.7846\u001b[0m\n",
      "\u001b[32m2025-08-02 14:02:44.520\u001b[0m | \u001b[1mINFO    \u001b[0m | \u001b[36mrfh_testdatascience_1.main\u001b[0m:\u001b[36mmain\u001b[0m:\u001b[36m59\u001b[0m - \u001b[1mAccuracy: 0.6435\u001b[0m\n",
      "\u001b[32m2025-08-02 14:02:44.532\u001b[0m | \u001b[1mINFO    \u001b[0m | \u001b[36mrfh_testdatascience_1.main\u001b[0m:\u001b[36mmain\u001b[0m:\u001b[36m61\u001b[0m - \u001b[1mFin del proceso de testing\u001b[0m\n"
     ]
    },
    {
     "name": "stdout",
     "output_type": "stream",
     "text": [
      "              precision    recall  f1-score   support\n",
      "\n",
      "           0       0.93      0.78      0.85      4945\n",
      "           1       0.53      0.81      0.64      1568\n",
      "\n",
      "    accuracy                           0.78      6513\n",
      "   macro avg       0.73      0.79      0.74      6513\n",
      "weighted avg       0.83      0.78      0.80      6513\n",
      "\n"
     ]
    }
   ],
   "source": [
    "main(\n",
    "        model_name_arg='test3',\n",
    "        processing_ind=True,\n",
    "        oversampling_ind=True,\n",
    "        grid_search_ind_arg=False,\n",
    "        test_arg=True,\n",
    "        learning_rate=0.1,\n",
    "        max_depth=3,\n",
    "        n_estimators=300\n",
    ")"
   ]
  },
  {
   "cell_type": "markdown",
   "id": "41ba131a-0be9-4135-916e-5ed3874b1142",
   "metadata": {},
   "source": [
    "### Conclusiones"
   ]
  },
  {
   "cell_type": "markdown",
   "id": "17307aed-5036-4e3b-b359-877d56ce0f93",
   "metadata": {},
   "source": [
    "Seleccionaremos la opción 3 Con processing y con oversampling, porque al tratarse de un dataset un poco desbalanceado nos interesa mas la métrica f1 que el acurracy"
   ]
  },
  {
   "cell_type": "markdown",
   "id": "c42f8e5c-9d17-4109-afd4-e70ba61a8613",
   "metadata": {},
   "source": [
    "### Guardar el modelo seleccionado"
   ]
  },
  {
   "cell_type": "code",
   "execution_count": 8,
   "id": "e402d4f7-6ea9-4db6-b208-a18126885c84",
   "metadata": {},
   "outputs": [
    {
     "name": "stderr",
     "output_type": "stream",
     "text": [
      "\u001b[32m2025-08-02 14:02:44.545\u001b[0m | \u001b[1mINFO    \u001b[0m | \u001b[36mrfh_testdatascience_1.main\u001b[0m:\u001b[36mmain\u001b[0m:\u001b[36m21\u001b[0m - \u001b[1mCarga de datos\u001b[0m\n",
      "\u001b[32m2025-08-02 14:02:44.620\u001b[0m | \u001b[1mINFO    \u001b[0m | \u001b[36mrfh_testdatascience_1.main\u001b[0m:\u001b[36mmain\u001b[0m:\u001b[36m31\u001b[0m - \u001b[1mEntrenamiento del modelo\u001b[0m\n",
      "\u001b[32m2025-08-02 14:02:44.626\u001b[0m | \u001b[1mINFO    \u001b[0m | \u001b[36mrfh_testdatascience_1.train\u001b[0m:\u001b[36mexecute\u001b[0m:\u001b[36m43\u001b[0m - \u001b[1mAplicando transformaciones a los datos\u001b[0m\n",
      "\u001b[32m2025-08-02 14:02:44.626\u001b[0m | \u001b[1mINFO    \u001b[0m | \u001b[36mrfh_testdatascience_1.pipeline\u001b[0m:\u001b[36mexecute\u001b[0m:\u001b[36m123\u001b[0m - \u001b[1mRelleno de nulos\u001b[0m\n",
      "\u001b[32m2025-08-02 14:02:44.627\u001b[0m | \u001b[1mINFO    \u001b[0m | \u001b[36mrfh_testdatascience_1.pipeline\u001b[0m:\u001b[36mexecute\u001b[0m:\u001b[36m125\u001b[0m - \u001b[1mNuevas columnas creadas\u001b[0m\n",
      "\u001b[32m2025-08-02 14:02:44.627\u001b[0m | \u001b[1mINFO    \u001b[0m | \u001b[36mrfh_testdatascience_1.pipeline\u001b[0m:\u001b[36mexecute\u001b[0m:\u001b[36m127\u001b[0m - \u001b[1mSelección de columnas importantes\u001b[0m\n",
      "\u001b[32m2025-08-02 14:02:44.628\u001b[0m | \u001b[1mINFO    \u001b[0m | \u001b[36mrfh_testdatascience_1.pipeline\u001b[0m:\u001b[36mexecute\u001b[0m:\u001b[36m130\u001b[0m - \u001b[1mAplicando OHE a las variables categóricas\u001b[0m\n",
      "\u001b[32m2025-08-02 14:02:44.628\u001b[0m | \u001b[1mINFO    \u001b[0m | \u001b[36mrfh_testdatascience_1.pipeline\u001b[0m:\u001b[36mexecute\u001b[0m:\u001b[36m133\u001b[0m - \u001b[1mAplicando oversampling\u001b[0m\n",
      "\u001b[32m2025-08-02 14:02:44.628\u001b[0m | \u001b[1mINFO    \u001b[0m | \u001b[36mrfh_testdatascience_1.pipeline\u001b[0m:\u001b[36mexecute\u001b[0m:\u001b[36m143\u001b[0m - \u001b[1mSet up del modelo\u001b[0m\n",
      "\u001b[32m2025-08-02 14:02:44.629\u001b[0m | \u001b[1mINFO    \u001b[0m | \u001b[36mrfh_testdatascience_1.pipeline\u001b[0m:\u001b[36mexecute\u001b[0m:\u001b[36m144\u001b[0m - \u001b[1mn_estimators :300\u001b[0m\n",
      "\u001b[32m2025-08-02 14:02:44.629\u001b[0m | \u001b[1mINFO    \u001b[0m | \u001b[36mrfh_testdatascience_1.pipeline\u001b[0m:\u001b[36mexecute\u001b[0m:\u001b[36m145\u001b[0m - \u001b[1mlearning_rate :0.1\u001b[0m\n",
      "\u001b[32m2025-08-02 14:02:44.630\u001b[0m | \u001b[1mINFO    \u001b[0m | \u001b[36mrfh_testdatascience_1.pipeline\u001b[0m:\u001b[36mexecute\u001b[0m:\u001b[36m146\u001b[0m - \u001b[1mmax_depth :3\u001b[0m\n",
      "\u001b[32m2025-08-02 14:02:44.630\u001b[0m | \u001b[1mINFO    \u001b[0m | \u001b[36mrfh_testdatascience_1.train\u001b[0m:\u001b[36mexecute\u001b[0m:\u001b[36m56\u001b[0m - \u001b[1mSeparación test y train\u001b[0m\n",
      "\u001b[32m2025-08-02 14:02:44.645\u001b[0m | \u001b[1mINFO    \u001b[0m | \u001b[36mrfh_testdatascience_1.train\u001b[0m:\u001b[36mexecute\u001b[0m:\u001b[36m77\u001b[0m - \u001b[1mAjustando pipeline\u001b[0m\n",
      "\u001b[32m2025-08-02 14:02:46.217\u001b[0m | \u001b[1mINFO    \u001b[0m | \u001b[36mrfh_testdatascience_1.main\u001b[0m:\u001b[36mmain\u001b[0m:\u001b[36m65\u001b[0m - \u001b[1mEl modelo test3 ha sido guardado en models/\u001b[0m\n"
     ]
    }
   ],
   "source": [
    "main(\n",
    "        model_name_arg='test3',\n",
    "        processing_ind=True,\n",
    "        oversampling_ind=True,\n",
    "        grid_search_ind_arg=False,\n",
    "        test_arg=False,\n",
    "        learning_rate=0.1,\n",
    "        max_depth=3,\n",
    "        n_estimators=300\n",
    ")"
   ]
  }
 ],
 "metadata": {
  "kernelspec": {
   "display_name": "test1",
   "language": "python",
   "name": "project_env_name"
  },
  "language_info": {
   "codemirror_mode": {
    "name": "ipython",
    "version": 3
   },
   "file_extension": ".py",
   "mimetype": "text/x-python",
   "name": "python",
   "nbconvert_exporter": "python",
   "pygments_lexer": "ipython3",
   "version": "3.12.10"
  }
 },
 "nbformat": 4,
 "nbformat_minor": 5
}
