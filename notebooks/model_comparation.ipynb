{
 "cells": [
  {
   "cell_type": "code",
   "execution_count": 1,
   "id": "dd69285c-3077-4d9f-afc1-b0ef1b783074",
   "metadata": {},
   "outputs": [
    {
     "name": "stderr",
     "output_type": "stream",
     "text": [
      "\u001b[32m2025-08-01 20:12:50.570\u001b[0m | \u001b[1mINFO    \u001b[0m | \u001b[36mrfh_testdatascience_1.config\u001b[0m:\u001b[36m<module>\u001b[0m:\u001b[36m11\u001b[0m - \u001b[1mPROJ_ROOT path is: C:\\Users\\Usuario\\Desktop\\Capgemini\\RFH-TestDataScience-1\\rfh_testdatascience_1\u001b[0m\n"
     ]
    }
   ],
   "source": [
    "from rfh_testdatascience_1.main import main"
   ]
  },
  {
   "cell_type": "markdown",
   "id": "1a288aec-72d1-4d35-b375-5ea68b3d2a46",
   "metadata": {},
   "source": [
    "### Caso 1: NO processing NO oversampling"
   ]
  },
  {
   "cell_type": "markdown",
   "id": "fc1878ca-542b-4a14-8cdf-1818792fc53a",
   "metadata": {},
   "source": [
    "#### Primero usamos grid search para saber cual son los mejores parámetros"
   ]
  },
  {
   "cell_type": "code",
   "execution_count": 2,
   "id": "c2396e3c-1596-410a-924d-820a542bbf32",
   "metadata": {},
   "outputs": [
    {
     "name": "stderr",
     "output_type": "stream",
     "text": [
      "\u001b[32m2025-08-01 20:12:51.777\u001b[0m | \u001b[1mINFO    \u001b[0m | \u001b[36mrfh_testdatascience_1.dataset\u001b[0m:\u001b[36mload_dataset\u001b[0m:\u001b[36m33\u001b[0m - \u001b[1mLeyendo data\u001b[0m\n",
      "\u001b[32m2025-08-01 20:12:51.824\u001b[0m | \u001b[1mINFO    \u001b[0m | \u001b[36mrfh_testdatascience_1.dataset\u001b[0m:\u001b[36mload_dataset\u001b[0m:\u001b[36m41\u001b[0m - \u001b[1mData raw leido\u001b[0m\n"
     ]
    },
    {
     "name": "stdout",
     "output_type": "stream",
     "text": [
      "Fitting 5 folds for each of 18 candidates, totalling 90 fits\n",
      "Best params: {'model__learning_rate': 0.1, 'model__max_depth': 5, 'model__n_estimators': 200}\n",
      "Best score: 0.6111016495955949\n"
     ]
    }
   ],
   "source": [
    "main(\n",
    "        model_name_arg='test1',\n",
    "        processing_ind=False,\n",
    "        oversampling_ind=False,\n",
    "        grid_search_ind_arg=True,\n",
    "        test_arg=True,\n",
    ")"
   ]
  },
  {
   "cell_type": "markdown",
   "id": "4613a584-a557-44ac-91bb-f0f79ea7c17c",
   "metadata": {},
   "source": [
    "#### Calculamos las métricas con estos hiperparametos"
   ]
  },
  {
   "cell_type": "code",
   "execution_count": 3,
   "id": "082cbd57-1236-4e34-84f3-478fa7417a7b",
   "metadata": {},
   "outputs": [
    {
     "name": "stderr",
     "output_type": "stream",
     "text": [
      "\u001b[32m2025-08-01 20:13:01.779\u001b[0m | \u001b[1mINFO    \u001b[0m | \u001b[36mrfh_testdatascience_1.dataset\u001b[0m:\u001b[36mload_dataset\u001b[0m:\u001b[36m33\u001b[0m - \u001b[1mLeyendo data\u001b[0m\n",
      "\u001b[32m2025-08-01 20:13:01.840\u001b[0m | \u001b[1mINFO    \u001b[0m | \u001b[36mrfh_testdatascience_1.dataset\u001b[0m:\u001b[36mload_dataset\u001b[0m:\u001b[36m41\u001b[0m - \u001b[1mData raw leido\u001b[0m\n"
     ]
    },
    {
     "name": "stdout",
     "output_type": "stream",
     "text": [
      "\n",
      "=== Resultados del modelo ===\n",
      "Accuracy: 0.8303\n",
      "F1-score: 0.6100\n",
      "              precision    recall  f1-score   support\n",
      "\n",
      "           0       0.87      0.92      0.89      4945\n",
      "           1       0.68      0.55      0.61      1568\n",
      "\n",
      "    accuracy                           0.83      6513\n",
      "   macro avg       0.77      0.73      0.75      6513\n",
      "weighted avg       0.82      0.83      0.82      6513\n",
      "\n"
     ]
    }
   ],
   "source": [
    "main(\n",
    "        model_name_arg='test1',\n",
    "        processing_ind=False,\n",
    "        oversampling_ind=False,\n",
    "        grid_search_ind_arg=False,\n",
    "        test_arg=True,\n",
    "        learning_rate=0.1,\n",
    "        max_depth=5,\n",
    "        n_estimators=200\n",
    ")"
   ]
  },
  {
   "cell_type": "markdown",
   "id": "0c31943f-c4fe-4bde-982f-c954070443a8",
   "metadata": {},
   "source": [
    "### Caso 1: SI processing NO oversampling"
   ]
  },
  {
   "cell_type": "markdown",
   "id": "86d97f87-cf81-4396-b9a0-cbe8f5bcb454",
   "metadata": {},
   "source": [
    "#### Primero usamos grid search para saber cual son los mejores parámetros"
   ]
  },
  {
   "cell_type": "code",
   "execution_count": 4,
   "id": "c94a826b-002f-48cc-96dc-a9f5357e6844",
   "metadata": {},
   "outputs": [
    {
     "name": "stderr",
     "output_type": "stream",
     "text": [
      "\u001b[32m2025-08-01 20:13:02.073\u001b[0m | \u001b[1mINFO    \u001b[0m | \u001b[36mrfh_testdatascience_1.dataset\u001b[0m:\u001b[36mload_dataset\u001b[0m:\u001b[36m33\u001b[0m - \u001b[1mLeyendo data\u001b[0m\n",
      "\u001b[32m2025-08-01 20:13:02.135\u001b[0m | \u001b[1mINFO    \u001b[0m | \u001b[36mrfh_testdatascience_1.dataset\u001b[0m:\u001b[36mload_dataset\u001b[0m:\u001b[36m41\u001b[0m - \u001b[1mData raw leido\u001b[0m\n"
     ]
    },
    {
     "name": "stdout",
     "output_type": "stream",
     "text": [
      "Fitting 5 folds for each of 18 candidates, totalling 90 fits\n",
      "Best params: {'model__learning_rate': 0.05, 'model__max_depth': 5, 'model__n_estimators': 300}\n",
      "Best score: 0.609529054892369\n"
     ]
    }
   ],
   "source": [
    "main(\n",
    "        model_name_arg='test2',\n",
    "        processing_ind=True,\n",
    "        oversampling_ind=False,\n",
    "        grid_search_ind_arg=True,\n",
    "        test_arg=True,\n",
    ")"
   ]
  },
  {
   "cell_type": "markdown",
   "id": "89ba93b3-9050-4d09-93f4-6c403da773ad",
   "metadata": {},
   "source": [
    "#### Calculamos las métricas con estos hiperparámetros"
   ]
  },
  {
   "cell_type": "code",
   "execution_count": 5,
   "id": "8dfd0b96-30d8-409d-90f5-34e0c1738b50",
   "metadata": {},
   "outputs": [
    {
     "name": "stderr",
     "output_type": "stream",
     "text": [
      "\u001b[32m2025-08-01 20:13:10.923\u001b[0m | \u001b[1mINFO    \u001b[0m | \u001b[36mrfh_testdatascience_1.dataset\u001b[0m:\u001b[36mload_dataset\u001b[0m:\u001b[36m33\u001b[0m - \u001b[1mLeyendo data\u001b[0m\n",
      "\u001b[32m2025-08-01 20:13:10.987\u001b[0m | \u001b[1mINFO    \u001b[0m | \u001b[36mrfh_testdatascience_1.dataset\u001b[0m:\u001b[36mload_dataset\u001b[0m:\u001b[36m41\u001b[0m - \u001b[1mData raw leido\u001b[0m\n"
     ]
    },
    {
     "name": "stdout",
     "output_type": "stream",
     "text": [
      "\n",
      "=== Resultados del modelo ===\n",
      "Accuracy: 0.8326\n",
      "F1-score: 0.6110\n",
      "              precision    recall  f1-score   support\n",
      "\n",
      "           0       0.87      0.92      0.89      4945\n",
      "           1       0.69      0.55      0.61      1568\n",
      "\n",
      "    accuracy                           0.83      6513\n",
      "   macro avg       0.78      0.73      0.75      6513\n",
      "weighted avg       0.82      0.83      0.83      6513\n",
      "\n"
     ]
    }
   ],
   "source": [
    "main(\n",
    "        model_name_arg='test2',\n",
    "        processing_ind=True,\n",
    "        oversampling_ind=False,\n",
    "        grid_search_ind_arg=False,\n",
    "        test_arg=True,\n",
    "        learning_rate=0.05,\n",
    "        max_depth=5,\n",
    "        n_estimators=300\n",
    ")"
   ]
  },
  {
   "cell_type": "markdown",
   "id": "8f8ec1c8-5774-4c09-a7a0-e0267b8a68ce",
   "metadata": {},
   "source": [
    "### Caso 1: SI processing SI oversampling"
   ]
  },
  {
   "cell_type": "markdown",
   "id": "89b31778-5904-4cd4-bc08-3998e02a48ff",
   "metadata": {},
   "source": [
    "#### Primero usamos grid search para saber cual son los mejores parámetros"
   ]
  },
  {
   "cell_type": "code",
   "execution_count": 6,
   "id": "3623a3f7-9000-4299-885d-5636a435b933",
   "metadata": {},
   "outputs": [
    {
     "name": "stderr",
     "output_type": "stream",
     "text": [
      "\u001b[32m2025-08-01 20:13:11.394\u001b[0m | \u001b[1mINFO    \u001b[0m | \u001b[36mrfh_testdatascience_1.dataset\u001b[0m:\u001b[36mload_dataset\u001b[0m:\u001b[36m33\u001b[0m - \u001b[1mLeyendo data\u001b[0m\n",
      "\u001b[32m2025-08-01 20:13:11.466\u001b[0m | \u001b[1mINFO    \u001b[0m | \u001b[36mrfh_testdatascience_1.dataset\u001b[0m:\u001b[36mload_dataset\u001b[0m:\u001b[36m41\u001b[0m - \u001b[1mData raw leido\u001b[0m\n"
     ]
    },
    {
     "name": "stdout",
     "output_type": "stream",
     "text": [
      "Fitting 5 folds for each of 18 candidates, totalling 90 fits\n",
      "Best params: {'model__learning_rate': 0.1, 'model__max_depth': 3, 'model__n_estimators': 300}\n",
      "Best score: 0.6458264279017694\n"
     ]
    }
   ],
   "source": [
    "main(\n",
    "        model_name_arg='test3',\n",
    "        processing_ind=True,\n",
    "        oversampling_ind=True,\n",
    "        grid_search_ind_arg=True,\n",
    "        test_arg=True,\n",
    ")"
   ]
  },
  {
   "cell_type": "code",
   "execution_count": 7,
   "id": "b717bb40-e45b-4530-8f64-b3a5194a3403",
   "metadata": {},
   "outputs": [
    {
     "name": "stderr",
     "output_type": "stream",
     "text": [
      "\u001b[32m2025-08-01 20:14:05.168\u001b[0m | \u001b[1mINFO    \u001b[0m | \u001b[36mrfh_testdatascience_1.dataset\u001b[0m:\u001b[36mload_dataset\u001b[0m:\u001b[36m33\u001b[0m - \u001b[1mLeyendo data\u001b[0m\n",
      "\u001b[32m2025-08-01 20:14:05.236\u001b[0m | \u001b[1mINFO    \u001b[0m | \u001b[36mrfh_testdatascience_1.dataset\u001b[0m:\u001b[36mload_dataset\u001b[0m:\u001b[36m41\u001b[0m - \u001b[1mData raw leido\u001b[0m\n"
     ]
    },
    {
     "name": "stdout",
     "output_type": "stream",
     "text": [
      "\n",
      "=== Resultados del modelo ===\n",
      "Accuracy: 0.7846\n",
      "F1-score: 0.6435\n",
      "              precision    recall  f1-score   support\n",
      "\n",
      "           0       0.93      0.78      0.85      4945\n",
      "           1       0.53      0.81      0.64      1568\n",
      "\n",
      "    accuracy                           0.78      6513\n",
      "   macro avg       0.73      0.79      0.74      6513\n",
      "weighted avg       0.83      0.78      0.80      6513\n",
      "\n"
     ]
    }
   ],
   "source": [
    "main(\n",
    "        model_name_arg='test3',\n",
    "        processing_ind=True,\n",
    "        oversampling_ind=True,\n",
    "        grid_search_ind_arg=False,\n",
    "        test_arg=True,\n",
    "        learning_rate=0.1,\n",
    "        max_depth=3,\n",
    "        n_estimators=300\n",
    ")"
   ]
  },
  {
   "cell_type": "markdown",
   "id": "41ba131a-0be9-4135-916e-5ed3874b1142",
   "metadata": {},
   "source": [
    "### Conclusiones"
   ]
  },
  {
   "cell_type": "markdown",
   "id": "17307aed-5036-4e3b-b359-877d56ce0f93",
   "metadata": {},
   "source": [
    "Seleccionaremos la opción 3 Con processing y con oversampling, porque al tratarse de un dataset un poco desbalanceado nos interesa mas la métrica f1 que el acurracy"
   ]
  },
  {
   "cell_type": "markdown",
   "id": "c42f8e5c-9d17-4109-afd4-e70ba61a8613",
   "metadata": {},
   "source": [
    "### Guardar el modelo seleccionado"
   ]
  },
  {
   "cell_type": "code",
   "execution_count": 8,
   "id": "e402d4f7-6ea9-4db6-b208-a18126885c84",
   "metadata": {},
   "outputs": [
    {
     "name": "stderr",
     "output_type": "stream",
     "text": [
      "\u001b[32m2025-08-01 20:14:06.969\u001b[0m | \u001b[1mINFO    \u001b[0m | \u001b[36mrfh_testdatascience_1.dataset\u001b[0m:\u001b[36mload_dataset\u001b[0m:\u001b[36m33\u001b[0m - \u001b[1mLeyendo data\u001b[0m\n",
      "\u001b[32m2025-08-01 20:14:07.035\u001b[0m | \u001b[1mINFO    \u001b[0m | \u001b[36mrfh_testdatascience_1.dataset\u001b[0m:\u001b[36mload_dataset\u001b[0m:\u001b[36m41\u001b[0m - \u001b[1mData raw leido\u001b[0m\n",
      "\u001b[32m2025-08-01 20:14:08.751\u001b[0m | \u001b[1mINFO    \u001b[0m | \u001b[36mrfh_testdatascience_1.main\u001b[0m:\u001b[36mmain\u001b[0m:\u001b[36m62\u001b[0m - \u001b[1mEl modelo test3 ha sido guardado en models/\u001b[0m\n"
     ]
    }
   ],
   "source": [
    "main(\n",
    "        model_name_arg='test3',\n",
    "        processing_ind=True,\n",
    "        oversampling_ind=True,\n",
    "        grid_search_ind_arg=False,\n",
    "        test_arg=False,\n",
    "        learning_rate=0.1,\n",
    "        max_depth=3,\n",
    "        n_estimators=300\n",
    ")"
   ]
  }
 ],
 "metadata": {
  "kernelspec": {
   "display_name": "test1",
   "language": "python",
   "name": "project_env_name"
  },
  "language_info": {
   "codemirror_mode": {
    "name": "ipython",
    "version": 3
   },
   "file_extension": ".py",
   "mimetype": "text/x-python",
   "name": "python",
   "nbconvert_exporter": "python",
   "pygments_lexer": "ipython3",
   "version": "3.12.10"
  }
 },
 "nbformat": 4,
 "nbformat_minor": 5
}
